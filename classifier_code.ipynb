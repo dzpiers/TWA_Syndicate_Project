{
 "cells": [
  {
   "cell_type": "code",
   "execution_count": 1,
   "metadata": {},
   "outputs": [],
   "source": [
    "import pandas as pd\n",
    "from sklearn.linear_model import LogisticRegression\n",
    "import numpy as np\n",
    "from sklearn.feature_extraction.text import CountVectorizer, TfidfVectorizer   #Learned how to use these things from: https://scikit-learn.org/stable/modules/feature_extraction.html\n",
    "import string\n",
    "import re\n",
    "import nltk\n",
    "import matplotlib.pyplot as plt"
   ]
  },
  {
   "cell_type": "code",
   "execution_count": 2,
   "metadata": {},
   "outputs": [],
   "source": [
    "def stem_string(string):\n",
    "    return \" \".join([nltk.PorterStemmer().stem(i) for i in string.split()])"
   ]
  },
  {
   "cell_type": "code",
   "execution_count": 3,
   "metadata": {},
   "outputs": [],
   "source": [
    "def load_data_for_clf():\n",
    "    #Loads data and returns it as a labelled DataFrame\n",
    "    \n",
    "    df_1950=pd.read_csv(\"./Data/1950s.csv\").drop(columns=[\"Unnamed: 0\"])\n",
    "    df_1950[\"Decade\"]=\"50s\"\n",
    "    \n",
    "    df_1960=pd.read_csv(\"./Data/1960s.csv\").drop(columns=[\"Unnamed: 0\"])\n",
    "    df_1960[\"Decade\"]=\"60s\"\n",
    "    \n",
    "    df_1970=pd.read_csv(\"./Data/1970s.csv\").drop(columns=[\"Unnamed: 0\"])\n",
    "    df_1970[\"Decade\"]=\"70s\"\n",
    "    \n",
    "    df_1980=pd.read_csv(\"./Data/1980s.csv\").drop(columns=[\"Unnamed: 0\"])\n",
    "    df_1980[\"Decade\"]=\"80s\"\n",
    "    \n",
    "    df_1990=pd.read_csv(\"./Data/1990s.csv\").drop(columns=[\"Unnamed: 0\"])\n",
    "    df_1990[\"Decade\"]=\"90s\"\n",
    "    \n",
    "    df_2000=pd.read_csv(\"./Data/2000s.csv\").drop(columns=[\"Unnamed: 0\"])\n",
    "    df_2000[\"Decade\"]=\"00s\"\n",
    "    \n",
    "    df_2010=pd.read_csv(\"./Data/2010s.csv\").drop(columns=[\"Unnamed: 0\"])\n",
    "    df_2010[\"Decade\"]=\"10s\"\n",
    "    \n",
    "    df_all=pd.concat([df_1950, df_1960, df_1970,df_1980, df_1990, df_2000, df_2010]).reset_index()\n",
    "    \n",
    "    \n",
    "    return df_all"
   ]
  },
  {
   "cell_type": "code",
   "execution_count": 4,
   "metadata": {},
   "outputs": [],
   "source": [
    "def get_multinomial_params(df_all, num_unique_words, tfidf=True, stem=True):\n",
    "    \"\"\"Inputs: \n",
    "    df_all: The output of load_data_for_clf()\n",
    "    num_unique_words: How many words should be used in the analysis. The function picks out the top num_unique_words words \n",
    "    (based on total frequency) to use in the classifier. \n",
    "    tfidf: Whether or not tfidf transformation should be used. If not, simple TDM (word counts) will be used.\n",
    "    \n",
    "    Output:\n",
    "    DataFrame of multinomial logit parameters\"\"\"\n",
    "    \n",
    "    df_all[\"lyrics\"]=df_all[\"lyrics\"].apply(lambda x: re.sub(r'\\[.*\\]', '', x))  # Stripping [Intro] etc\n",
    "    df_all[\"lyrics\"]=df_all[\"lyrics\"].apply(lambda x: re.sub(r'\\n+', '\\n', x))   # Stripping newlines\n",
    "    df_all[\"lyrics\"]=df_all[\"lyrics\"].apply(lambda x: x.lower())  # Folding case\n",
    "    df_all[\"lyrics\"]=df_all[\"lyrics\"].apply(lambda x: \"\".join([char for char in x if char not in string.punctuation]))  # Stripping punctuation\n",
    "    \n",
    "    #Transform text to tfidf or word counts\n",
    "    if tfidf:\n",
    "        transformer=TfidfVectorizer(max_features=num_unique_words)\n",
    "    else:\n",
    "        transformer=CountVectorizer(max_features=num_unique_words)\n",
    "        \n",
    "    if stem:\n",
    "        df_all[\"lyrics\"]=df_all[\"lyrics\"].apply(stem_string)\n",
    "\n",
    "    X=pd.DataFrame(transformer.fit_transform(df_all[\"lyrics\"]).todense())\n",
    "    \n",
    "    #Extract the class label\n",
    "    y=df_all[\"Decade\"]\n",
    "\n",
    "    #Create and train the model. \n",
    "    #The name is LogisticRegression, but this is actually an unordered multinomial logit model as taught by Ole.\n",
    "    #An unordered multinomial logit is implemented in Python as the LogisticRegression when there are more than 2 classes.\n",
    "    clf=LogisticRegression(max_iter=1000, multi_class=\"multinomial\")\n",
    "    clf.fit(X, y)\n",
    "\n",
    "    #Extract the terms/words that the tfidf/word counts are associated with\n",
    "    vocab={x: y for (y, x) in transformer.vocabulary_.items()}\n",
    "    ordered_words=[vocab[i] for i in range(0, num_unique_words)]\n",
    "    \n",
    "    #Extract the (beta) parameters from the multinomial logit model\n",
    "    lr_weights=pd.DataFrame(clf.coef_)\n",
    "    lr_weights.columns=ordered_words\n",
    "    lr_weights.index=clf.classes_\n",
    "    \n",
    "    print(clf.score(X, y))  #Print accuracy\n",
    "    \n",
    "    #Return the results\n",
    "    return lr_weights.transpose()[[\"50s\", \"60s\", \"70s\", \"80s\", \"90s\", \"00s\", \"10s\"]]"
   ]
  },
  {
   "cell_type": "code",
   "execution_count": 5,
   "metadata": {},
   "outputs": [
    {
     "name": "stdout",
     "output_type": "stream",
     "text": [
      "0.5169613857813063\n"
     ]
    }
   ],
   "source": [
    "get_multinomial_params(load_data_for_clf(), 500, True, True).to_csv(\"results_500_words_tfidf_stemmed.csv\")"
   ]
  },
  {
   "cell_type": "code",
   "execution_count": 6,
   "metadata": {},
   "outputs": [
    {
     "name": "stdout",
     "output_type": "stream",
     "text": [
      "0.6008661133164922\n"
     ]
    },
    {
     "name": "stderr",
     "output_type": "stream",
     "text": [
      "C:\\Users\\andre\\.conda\\envs\\BothPythonR\\lib\\site-packages\\sklearn\\linear_model\\_logistic.py:764: ConvergenceWarning: lbfgs failed to converge (status=1):\n",
      "STOP: TOTAL NO. of ITERATIONS REACHED LIMIT.\n",
      "\n",
      "Increase the number of iterations (max_iter) or scale the data as shown in:\n",
      "    https://scikit-learn.org/stable/modules/preprocessing.html\n",
      "Please also refer to the documentation for alternative solver options:\n",
      "    https://scikit-learn.org/stable/modules/linear_model.html#logistic-regression\n",
      "  extra_warning_msg=_LOGISTIC_SOLVER_CONVERGENCE_MSG)\n"
     ]
    }
   ],
   "source": [
    "get_multinomial_params(load_data_for_clf(), 500, False, True).to_csv(\"results_500_words_bow_stemmed.csv\")"
   ]
  },
  {
   "cell_type": "code",
   "execution_count": 7,
   "metadata": {},
   "outputs": [
    {
     "data": {
      "text/plain": [
       "5542"
      ]
     },
     "execution_count": 7,
     "metadata": {},
     "output_type": "execute_result"
    }
   ],
   "source": [
    "len(load_data_for_clf())"
   ]
  },
  {
   "cell_type": "code",
   "execution_count": 8,
   "metadata": {},
   "outputs": [],
   "source": [
    "results=pd.read_csv(\"results_500_words_bow_stemmed.csv\")"
   ]
  },
  {
   "cell_type": "code",
   "execution_count": 9,
   "metadata": {},
   "outputs": [],
   "source": [
    "results.columns=['word', '50s', '60s', '70s', '80s', '90s', '00s', '10s']"
   ]
  },
  {
   "cell_type": "code",
   "execution_count": 10,
   "metadata": {},
   "outputs": [],
   "source": [
    "def plot_results(results_df, word):\n",
    "    plt.bar(range(7), results[results[\"word\"]==word].drop(columns=[\"word\"]).values[0], color='#41ADBC')\n",
    "    plt.xticks(range(7), [\"1950s\", \"1960s\", \"1970s\", \"1980s\", \"1990s\", \"2000s\", \"2010s\"])\n",
    "    plt.xlabel(\"Decade\")\n",
    "    plt.ylabel(\"Coefficient estimate\")\n",
    "    if word==\"shit\":\n",
    "        word=\"s**t\"\n",
    "    plt.title(\"Classifier results for '\"+word+\"'\")\n",
    "    plt.show()"
   ]
  },
  {
   "cell_type": "code",
   "execution_count": 11,
   "metadata": {},
   "outputs": [
    {
     "data": {
      "image/png": "[encoded data removed]",
      "text/plain": [
       "<Figure size 432x288 with 1 Axes>"
      ]
     },
     "metadata": {
      "needs_background": "light"
     },
     "output_type": "display_data"
    }
   ],
   "source": [
    "plot_results(results, \"love\")"
   ]
  },
  {
   "cell_type": "code",
   "execution_count": 12,
   "metadata": {},
   "outputs": [
    {
     "data": {
      "image/png": "[encoded data removed]",
      "text/plain": [
       "<Figure size 432x288 with 1 Axes>"
      ]
     },
     "metadata": {
      "needs_background": "light"
     },
     "output_type": "display_data"
    }
   ],
   "source": [
    "plot_results(results, \"shit\")"
   ]
  },
  {
   "cell_type": "code",
   "execution_count": 13,
   "metadata": {},
   "outputs": [
    {
     "data": {
      "image/png": "[encoded data removed]",
      "text/plain": [
       "<Figure size 432x288 with 1 Axes>"
      ]
     },
     "metadata": {
      "needs_background": "light"
     },
     "output_type": "display_data"
    }
   ],
   "source": [
    "plt.plot([1,1,1,1,1,3,2], color='#41ADBC')\n",
    "plt.plot([636, 1077, 3191, 1654, 410, 95,108], color=\"#C2A0DE\")\n",
    "plt.legend([\"love\", \"s**t\"])\n",
    "plt.yscale(\"log\")\n",
    "plt.ylabel(\"Rank by frequency\")\n",
    "plt.title(\"Word Frequency Ranks\")\n",
    "plt.xticks(range(7), [\"1950s\", \"1960s\", \"1970s\", \"1980s\", \"1990s\", \"2000s\", \"2010s\"])\n",
    "plt.gca().invert_yaxis()\n",
    "plt.show()"
   ]
  },
  {
   "cell_type": "code",
   "execution_count": null,
   "metadata": {},
   "outputs": [],
   "source": []
  }
 ],
 "metadata": {
  "kernelspec": {
   "display_name": "Python 3",
   "language": "python",
   "name": "python3"
  },
  "language_info": {
   "codemirror_mode": {
    "name": "ipython",
    "version": 3
   },
   "file_extension": ".py",
   "mimetype": "text/x-python",
   "name": "python",
   "nbconvert_exporter": "python",
   "pygments_lexer": "ipython3",
   "version": "3.7.7"
  }
 },
 "nbformat": 4,
 "nbformat_minor": 4
}
